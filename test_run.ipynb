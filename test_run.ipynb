{
 "cells": [
  {
   "cell_type": "code",
   "execution_count": 1,
   "metadata": {},
   "outputs": [
    {
     "name": "stdout",
     "output_type": "stream",
     "text": [
      "False\n",
      "monolith  -s -j   https://habr.com/ru/companies/timeweb/articles/819209/\n",
      "<!-- Saved from https://habr.com/ru/companies/timeweb/articles/819209/ at 2025-01-11T22:22:30Z using\n"
     ]
    }
   ],
   "source": [
    "import _utils\n",
    "\n",
    "print(_utils.check_program_is_installed())\n",
    "print(_utils.get_html_from_url('https://habr.com/ru/companies/timeweb/articles/819209/')[:100])"
   ]
  },
  {
   "cell_type": "code",
   "execution_count": 13,
   "metadata": {},
   "outputs": [
    {
     "data": {
      "text/plain": [
       "True"
      ]
     },
     "execution_count": 13,
     "metadata": {},
     "output_type": "execute_result"
    }
   ],
   "source": [
    "import shutil\n",
    "shutil.which('monolith') is not None"
   ]
  }
 ],
 "metadata": {
  "kernelspec": {
   "display_name": ".venv",
   "language": "python",
   "name": "python3"
  },
  "language_info": {
   "codemirror_mode": {
    "name": "ipython",
    "version": 3
   },
   "file_extension": ".py",
   "mimetype": "text/x-python",
   "name": "python",
   "nbconvert_exporter": "python",
   "pygments_lexer": "ipython3",
   "version": "3.12.7"
  }
 },
 "nbformat": 4,
 "nbformat_minor": 2
}
